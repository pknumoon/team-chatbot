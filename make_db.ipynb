{
 "cells": [
  {
   "cell_type": "code",
   "execution_count": null,
   "id": "b61d369e",
   "metadata": {},
   "outputs": [],
   "source": [
    "import os\n",
    "from langchain.document_loaders import PyPDFLoader\n",
    "from langchain.text_splitter import RecursiveCharacterTextSplitter\n",
    "from langchain.embeddings import OpenAIEmbeddings\n",
    "from langchain.vectorstores import Chroma\n",
    "from langchain.chat_models import ChatOpenAI\n",
    "from langchain.prompts import PromptTemplate\n",
    "from langchain.schema import Document\n",
    "from langchain.chains import LLMChain\n",
    "\n",
    "os.environ[\"OPENAI_API_KEY\"] = \"OPENAI_API_KEY\"\n",
    "\n",
    "openai_embedding=OpenAIEmbeddings(model = 'text-embedding-3-small')\n",
    "\n",
    "# test 123s"
   ]
  },
  {
   "cell_type": "code",
   "execution_count": 3,
   "id": "264b1c6f",
   "metadata": {},
   "outputs": [],
   "source": [
    "# 교수명 기반 PDF 로더 (제목 포함)\n",
    "def load_pdfs_with_metadata(root_dir):\n",
    "    all_docs = []\n",
    "    for professor_name in os.listdir(root_dir):\n",
    "        prof_dir = os.path.join(root_dir, professor_name)\n",
    "        if not os.path.isdir(prof_dir):\n",
    "            continue\n",
    "        for filename in os.listdir(prof_dir):\n",
    "            if filename.endswith(\".pdf\"):\n",
    "                pdf_path = os.path.join(prof_dir, filename)\n",
    "                abs_path = os.path.abspath(pdf_path)\n",
    "                if not os.path.isfile(abs_path):\n",
    "                    print(f\"[❌ 존재하지 않음] {abs_path}\")\n",
    "                    continue\n",
    "                try:\n",
    "                    loader = PyPDFLoader(abs_path)\n",
    "                    pages = loader.load()\n",
    "                    for page in pages:\n",
    "                        page.metadata[\"professor\"] = professor_name\n",
    "                        page.metadata[\"title\"] = filename[:-4]  # .pdf 제거\n",
    "                    all_docs.extend(pages)\n",
    "                except Exception as e:\n",
    "                    print(f\"[⚠️ 로딩 실패] {abs_path} → {e}\")\n",
    "    return all_docs\n"
   ]
  },
  {
   "cell_type": "code",
   "execution_count": 4,
   "id": "68da13bc",
   "metadata": {},
   "outputs": [],
   "source": [
    "# Chroma DB 저장\n",
    "def create_vector_store(docs, persist_directory=\"./chroma_db\"):\n",
    "    text_splitter = RecursiveCharacterTextSplitter(chunk_size=1000, chunk_overlap=100)\n",
    "    split_docs = text_splitter.split_documents(docs)\n",
    "    \n",
    "    vectorstore = Chroma.from_documents(\n",
    "        split_docs,\n",
    "        embedding=OpenAIEmbeddings(model=\"text-embedding-3-small\"),\n",
    "        persist_directory=persist_directory\n",
    "    )\n",
    "    return vectorstore"
   ]
  },
  {
   "cell_type": "code",
   "execution_count": 5,
   "id": "8bcb0b13",
   "metadata": {},
   "outputs": [],
   "source": [
    "# 실행\n",
    "root_pdf_folder = \"../../data/교수님들 논문\"  # 또는 절대경로로 지정\n",
    "documents = load_pdfs_with_metadata(root_pdf_folder)\n",
    "vectorstore = create_vector_store(documents)"
   ]
  }
 ],
 "metadata": {
  "kernelspec": {
   "display_name": "chatbot",
   "language": "python",
   "name": "python3"
  },
  "language_info": {
   "codemirror_mode": {
    "name": "ipython",
    "version": 3
   },
   "file_extension": ".py",
   "mimetype": "text/x-python",
   "name": "python",
   "nbconvert_exporter": "python",
   "pygments_lexer": "ipython3",
   "version": "3.12.9"
  }
 },
 "nbformat": 4,
 "nbformat_minor": 5
}
